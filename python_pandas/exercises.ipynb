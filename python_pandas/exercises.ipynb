{
 "cells": [
  {
   "cell_type": "markdown",
   "metadata": {},
   "source": [
    "# Pandas: conhecendo a biblioteca"
   ]
  },
  {
   "cell_type": "markdown",
   "metadata": {},
   "source": [
    "## .head()\n",
    "## dados.['Valor'].mean()\n",
    "## groupby() dados.groupby('Tipo').mean()\n",
    "## dados.groupby('Tipo').mean(numeric_only=True)\n",
    "## dados.groupby('Tipo')['Valor'].mean()\n",
    "## dados.groupby('Tipo')[['Valor']].mean().sort_values('Valor')\n",
    "## df_preco_tipo = dados.groupby('Tipo').mean()[['Valor']].sort_values(\"Valor\")\n",
    "## df_preco_tipo = dados.groupby('Tipo').mean()[['Valor']].sort_values('Valor')\n",
    "## df_preco_tipo.plot(kind='barh', figsize=(14, 10), color ='purple');\n",
    "## dados.Tipo.unique()\n",
    "## dados.query('@imoveis_comerciais in Tipo')\n",
    "## dados.query('@imoveis_comerciais not in Tipo')\n",
    "## df = dados.query('@imoveis_comerciais not in Tipo')\n",
    "## .unique()\n",
    "## df_preco_tipo = df.groupby(\"Tipo\").mean()[[\"Valor\"]].sort_values(\"Valor\")\n",
    "## df_preco_tipo.plot(kind='barh', figsize=(14, 10), color ='purple');\n",
    "\n",
    "\n",
    "## 02 - imóveis residenciais"
   ]
  },
  {
   "cell_type": "markdown",
   "metadata": {},
   "source": []
  }
 ],
 "metadata": {
  "language_info": {
   "name": "python"
  },
  "orig_nbformat": 4
 },
 "nbformat": 4,
 "nbformat_minor": 2
}
